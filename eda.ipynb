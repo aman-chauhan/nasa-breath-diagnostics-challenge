{
 "cells": [
  {
   "cell_type": "markdown",
   "metadata": {},
   "source": [
    "# NASA Breath Diagnostics Challenge\n",
    "\n",
    "## Exploratory Data Analysis"
   ]
  },
  {
   "cell_type": "code",
   "execution_count": null,
   "metadata": {},
   "outputs": [],
   "source": [
    "import matplotlib.pyplot as plt\n",
    "import seaborn as sns\n",
    "import pandas as pd\n",
    "import os"
   ]
  },
  {
   "cell_type": "code",
   "execution_count": null,
   "metadata": {},
   "outputs": [],
   "source": [
    "STAGING_DATA_FOLDER = \"staging_data\"\n",
    "FIGURES_FOLDER = \"figures\""
   ]
  },
  {
   "cell_type": "code",
   "execution_count": null,
   "metadata": {},
   "outputs": [],
   "source": [
    "train_readings_df = pd.read_csv(os.path.join(STAGING_DATA_FOLDER, \"train_readings.csv\"))\n",
    "train_patients_df = pd.read_csv(os.path.join(STAGING_DATA_FOLDER, \"train_patients.csv\"))"
   ]
  },
  {
   "cell_type": "code",
   "execution_count": null,
   "metadata": {},
   "outputs": [],
   "source": [
    "train_readings_df.describe()"
   ]
  },
  {
   "cell_type": "code",
   "execution_count": null,
   "metadata": {},
   "outputs": [],
   "source": [
    "train_patients_df.describe()"
   ]
  },
  {
   "cell_type": "code",
   "execution_count": null,
   "metadata": {},
   "outputs": [],
   "source": [
    "train_readings_df.groupby(\"Patient ID\").size().reset_index()"
   ]
  },
  {
   "cell_type": "code",
   "execution_count": null,
   "metadata": {},
   "outputs": [],
   "source": [
    "train_readings_df[~train_readings_df[\"Patient ID\"].isin([20, 53])].describe()"
   ]
  },
  {
   "cell_type": "code",
   "execution_count": null,
   "metadata": {},
   "outputs": [],
   "source": [
    "train_readings_df = train_readings_df[train_readings_df[\"Time\"] < 841.0]\n",
    "train_readings_df.describe()"
   ]
  },
  {
   "cell_type": "code",
   "execution_count": null,
   "metadata": {},
   "outputs": [],
   "source": [
    "train_readings_df.groupby(\"Patient ID\").size().reset_index()"
   ]
  },
  {
   "cell_type": "code",
   "execution_count": null,
   "metadata": {},
   "outputs": [],
   "source": [
    "fig, ax = plt.subplots(2, 2, figsize=(16, 12))\n",
    "ax[0][0].set_title(\"Bin Width = 0.5\")\n",
    "_ = sns.histplot(train_readings_df, x=\"Time\", binwidth=0.5, kde=True, ax=ax[0][0])\n",
    "ax[0][1].set_title(\"Bin Width = 1\")\n",
    "_ = sns.histplot(train_readings_df, x=\"Time\", binwidth=1, kde=True, ax=ax[0][1])\n",
    "ax[1][0].set_title(\"Bin Width = 2\")\n",
    "_ = sns.histplot(train_readings_df, x=\"Time\", binwidth=2, kde=True, ax=ax[1][0])\n",
    "ax[1][1].set_title(\"Bin Width = 2.26\")\n",
    "_ = sns.histplot(train_readings_df, x=\"Time\", binwidth=2.26, kde=True, ax=ax[1][1])\n",
    "fig.savefig(os.path.join(FIGURES_FOLDER, \"time_histograms.png\"), bbox_inches=\"tight\")"
   ]
  },
  {
   "cell_type": "code",
   "execution_count": null,
   "metadata": {},
   "outputs": [],
   "source": [
    "PATIENT_IDS = [1, 4, 10, 12]\n",
    "# 1 and 12 have COVID, 4 and 10 don't have COVID"
   ]
  },
  {
   "cell_type": "code",
   "execution_count": null,
   "metadata": {},
   "outputs": [],
   "source": [
    "sample_df = train_readings_df[train_readings_df[\"Patient ID\"].isin(PATIENT_IDS)]\n",
    "# sample_df = sample_df.drop(columns=[x for x in sample_df.columns if x == \"Patient ID\"])\n",
    "sample_df"
   ]
  },
  {
   "cell_type": "code",
   "execution_count": null,
   "metadata": {},
   "outputs": [],
   "source": [
    "fig, ax = plt.subplots(8, 8, figsize=(64, 64))\n",
    "for i in range(64):\n",
    "    _ = sns.lineplot(sample_df, x=\"Time\", y=f\"D{i+1}\", hue=\"Patient ID\", palette=\"tab10\", ax=ax[i // 8][i % 8])\n",
    "fig.savefig(os.path.join(FIGURES_FOLDER, \"raw_samples_timeline.png\"), bbox_inches=\"tight\")\n",
    "plt.close()"
   ]
  },
  {
   "cell_type": "markdown",
   "metadata": {},
   "source": [
    "![Raw Samples on Timeline](figures/raw_samples_timeline.png)"
   ]
  },
  {
   "cell_type": "code",
   "execution_count": null,
   "metadata": {},
   "outputs": [],
   "source": [
    "patient_means = sample_df[sample_df[\"Time\"] < 301].groupby(\"Patient ID\").mean().reset_index().drop(columns=\"Time\")\n",
    "result = sample_df.merge(patient_means, on=\"Patient ID\", suffixes=(\"_sample\", \"_mean\"))\n",
    "result"
   ]
  },
  {
   "cell_type": "code",
   "execution_count": null,
   "metadata": {},
   "outputs": [],
   "source": [
    "for col in [f\"D{i+1}\" for i in range(64)]:\n",
    "    result[col] = result[f\"{col}_sample\"] - result[f\"{col}_mean\"]\n",
    "    result.drop(columns=[f\"{col}_sample\", f\"{col}_mean\"], inplace=True)"
   ]
  },
  {
   "cell_type": "code",
   "execution_count": null,
   "metadata": {},
   "outputs": [],
   "source": [
    "result"
   ]
  },
  {
   "cell_type": "code",
   "execution_count": null,
   "metadata": {},
   "outputs": [],
   "source": [
    "fig, ax = plt.subplots(8, 8, figsize=(64, 64))\n",
    "for i in range(64):\n",
    "    col = f\"D{i+1}\"\n",
    "    _ = sns.lineplot(result, x=\"Time\", y=col, hue=\"Patient ID\", palette=\"tab10\", ax=ax[i // 8][i % 8])\n",
    "fig.savefig(os.path.join(FIGURES_FOLDER, \"raw_samples_timeline_trend_removed.png\"), bbox_inches=\"tight\")\n",
    "plt.close()"
   ]
  },
  {
   "cell_type": "markdown",
   "metadata": {},
   "source": [
    "![Raw Samples on Timeline with Trend Removed](figures/raw_samples_timeline_trend_removed.png)"
   ]
  }
 ],
 "metadata": {
  "kernelspec": {
   "display_name": "Python 3",
   "language": "python",
   "name": "python3"
  },
  "language_info": {
   "codemirror_mode": {
    "name": "ipython",
    "version": 3
   },
   "file_extension": ".py",
   "mimetype": "text/x-python",
   "name": "python",
   "nbconvert_exporter": "python",
   "pygments_lexer": "ipython3",
   "version": "3.12.4"
  }
 },
 "nbformat": 4,
 "nbformat_minor": 2
}
